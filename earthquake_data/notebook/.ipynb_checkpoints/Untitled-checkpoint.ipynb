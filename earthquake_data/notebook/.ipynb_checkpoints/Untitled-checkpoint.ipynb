{
 "cells": [
  {
   "cell_type": "code",
   "execution_count": null,
   "id": "7c6f036e-790d-4f52-b184-615a6153854e",
   "metadata": {},
   "outputs": [],
   "source": [
    "from census import Census\n",
    "import hvplot.pandas\n",
    "import pandas as pd\n",
    "import requests, csv\n",
    "import time\n",
    "from scipy.stats import linregress\n",
    "from matplotlib import pyplot as plt\n",
    "import json\n",
    "import io\n",
    "\n",
    "\n",
    "\n",
    "import warnings\n",
    "warnings.filterwarnings(\"ignore\")\n"
   ]
  },
  {
   "cell_type": "code",
   "execution_count": null,
   "id": "71dff859-65c8-4f46-8322-986dfa4c7747",
   "metadata": {},
   "outputs": [],
   "source": [
    "url = 'https://earthquake.usgs.gov/fdsnws/event/1/query?format=csv&starttime=2014-01-01&endtime=2016-01-02&minmagnitude=5'\n",
    "response = requests.get(url).content\n",
    "data = pd.read_csv(io.StringIO(response.decode('utf-8')))\n",
    "df = pd.DataFrame(data)\n",
    "df.columns"
   ]
  },
  {
   "cell_type": "code",
   "execution_count": null,
   "id": "12d49bf1-c0db-4508-956c-8653e97c924f",
   "metadata": {},
   "outputs": [],
   "source": [
    "data_dropped = df.drop(columns=[\"rms\", \"dmin\",\"nst\",\"gap\",\"net\",\"magError\",\"status\",\"magNst\"])\n",
    "data_dropped.head()\n"
   ]
  },
  {
   "cell_type": "code",
   "execution_count": null,
   "id": "e1867746-3091-455a-b461-76c948a54cdf",
   "metadata": {},
   "outputs": [],
   "source": [
    "data_dropped['time'] = pd.to_datetime(data_dropped['time'], errors='coerce')\n",
    "data_converted = pd.to_datetime(data_dropped['time'], format = 'mixed')\n",
    "# data_filtered = data_dropped[data_dropped['time'].dt.year.isin([2016])]\n",
    "# data_filtered.head()"
   ]
  },
  {
   "cell_type": "code",
   "execution_count": null,
   "id": "f8797713-3d3d-4d2b-a6e0-4315503dd71c",
   "metadata": {},
   "outputs": [],
   "source": [
    "data_dropped.to_csv('earthquake.csv')"
   ]
  }
 ],
 "metadata": {
  "kernelspec": {
   "display_name": "Python 3 (ipykernel)",
   "language": "python",
   "name": "python3"
  },
  "language_info": {
   "codemirror_mode": {
    "name": "ipython",
    "version": 3
   },
   "file_extension": ".py",
   "mimetype": "text/x-python",
   "name": "python",
   "nbconvert_exporter": "python",
   "pygments_lexer": "ipython3",
   "version": "3.10.14"
  }
 },
 "nbformat": 4,
 "nbformat_minor": 5
}
